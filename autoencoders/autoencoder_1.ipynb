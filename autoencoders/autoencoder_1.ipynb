{
 "cells": [
  {
   "cell_type": "markdown",
   "metadata": {},
   "source": [
    "<b>Utis for data retrieving and Preprocessing</b>"
   ]
  },
  {
   "cell_type": "code",
   "execution_count": 7,
   "metadata": {},
   "outputs": [],
   "source": [
    "from sklearn.model_selection import train_test_split\n",
    "\n",
    "def get_data_partition(start, end, test_size):\n",
    "    ids = []\n",
    "    for idx in range(start, end):\n",
    "        ids.append('rain_mat_' + str(idx))\n",
    "    train, test = train_test_split(ids, test_size=test_size)\n",
    "    return {'train': train, 'validation': test}\n"
   ]
  },
  {
   "cell_type": "markdown",
   "metadata": {},
   "source": [
    "<b>Datagenerator class for retrieving training data on the fly</b>"
   ]
  },
  {
   "cell_type": "code",
   "execution_count": 8,
   "metadata": {},
   "outputs": [],
   "source": [
    "import numpy as np\n",
    "from keras.utils import Sequence\n",
    "from os import path\n",
    "\n",
    "class DataGenerator(Sequence):\n",
    "    def __init__(self, list_ids, batch_size=32, dim=(32, 32, 32), reshape_dim=None, shuffle=True):\n",
    "        \"\"\"Initialization\"\"\"\n",
    "        self.dim = dim\n",
    "        self.reshape_dim = reshape_dim\n",
    "        self.batch_size = batch_size\n",
    "        self.list_ids = list_ids\n",
    "        self.shuffle = shuffle\n",
    "        self.on_epoch_end()\n",
    "\n",
    "    def __len__(self):\n",
    "        \"\"\"Denotes the number of batches per epoch\"\"\"\n",
    "        return int(np.floor(len(self.list_ids) / self.batch_size))\n",
    "\n",
    "    def __getitem__(self, index):\n",
    "        \"\"\"Generate one batch of data\"\"\"\n",
    "        # Generate indexes of the batch\n",
    "        indexes = self.indexes[index*self.batch_size:(index+1)*self.batch_size]\n",
    "\n",
    "        # Find list of IDs\n",
    "        list_ids_temp = [self.list_ids[k] for k in indexes]\n",
    "\n",
    "        # Generate data\n",
    "        X, y = self.data_generation(list_ids_temp)\n",
    "\n",
    "        return X, y\n",
    "\n",
    "    def on_epoch_end(self):\n",
    "        \"\"\"Updates indexes after each epoch\"\"\"\n",
    "        self.indexes = np.arange(len(self.list_ids))\n",
    "        if self.shuffle is True:\n",
    "            np.random.shuffle(self.indexes)\n",
    "\n",
    "    def data_generation(self, list_ids_temp):\n",
    "        \"\"\"Generates data containing batch_size samples\"\"\"\n",
    "        # Initialization\n",
    "        X = np.empty((self.batch_size, np.prod(self.dim)))\n",
    "\n",
    "        # Generate data\n",
    "        for i, _id in enumerate(list_ids_temp):\n",
    "            # Store sample\n",
    "            data = np.load(path.join('/home/nira/PycharmProjects/DI_Framework/rain-matrix-3d/matrix_out', _id))\n",
    "            X[i, ] = np.reshape(data, np.prod(self.dim))\n",
    "        return X, X\n"
   ]
  },
  {
   "cell_type": "markdown",
   "metadata": {},
   "source": [
    "<b>Import section for Neural Network modelling and Training</b>"
   ]
  },
  {
   "cell_type": "code",
   "execution_count": 9,
   "metadata": {},
   "outputs": [],
   "source": [
    "import numpy as np\n",
    "import pandas as pd\n",
    "import sklearn\n",
    "\n",
    "from keras import backend as T\n",
    "from keras.layers import Activation, Input, Dense\n",
    "from keras.models import Sequential, Model\n",
    "from keras.optimizers import Adam\n",
    "from keras.metrics import categorical_crossentropy"
   ]
  },
  {
   "cell_type": "markdown",
   "metadata": {},
   "source": [
    "<b>Rainfall retrieval and data preprocessing</b>"
   ]
  },
  {
   "cell_type": "code",
   "execution_count": 10,
   "metadata": {},
   "outputs": [],
   "source": [
    "x_length = 100\n",
    "y_length = 60\n",
    "tms_length = 24\n",
    "\n",
    "img_shape = (tms_length*x_length*y_length,)\n",
    "l1_out_units = x_length*y_length\n",
    "l2_out_units = int(np.sqrt(np.square(x_length) + np.square(y_length)))"
   ]
  },
  {
   "cell_type": "code",
   "execution_count": 11,
   "metadata": {},
   "outputs": [
    {
     "name": "stdout",
     "output_type": "stream",
     "text": [
      "144000\n"
     ]
    }
   ],
   "source": [
    "input_matrix = Input(shape=img_shape)\n",
    "\n",
    "encode_l1 = Dense(units=l1_out_units, activation='relu')(input_matrix)\n",
    "encode_l2 = Dense(units=l2_out_units, activation='relu')(encode_l1)\n",
    "\n",
    "decode_l1 = Dense(units=l1_out_units, activation='relu')(encode_l2)\n",
    "decode_l2 = Dense(units=img_shape[0], activation='softmax')(decode_l1)\n",
    "\n",
    "print(img_shape[0])\n",
    "\n",
    "autoencoder = Model(input_matrix, decode_l2)\n",
    "autoencoder.compile(optimizer='adadelta', loss='binary_crossentropy')"
   ]
  },
  {
   "cell_type": "code",
   "execution_count": 12,
   "metadata": {},
   "outputs": [],
   "source": [
    "params = {'dim': (tms_length, x_length, y_length), 'batch_size': 3, 'shuffle': True}\n",
    "partition = get_data_partition(1, 12, 0.2)\n",
    "\n",
    "training_generator = DataGenerator(partition['train'], **params)\n",
    "validation_generator = DataGenerator(partition['validation'], **params)"
   ]
  },
  {
   "cell_type": "code",
   "execution_count": 13,
   "metadata": {},
   "outputs": [
    {
     "name": "stdout",
     "output_type": "stream",
     "text": [
      "_________________________________________________________________\n",
      "Layer (type)                 Output Shape              Param #   \n",
      "=================================================================\n",
      "input_2 (InputLayer)         (None, 144000)            0         \n",
      "_________________________________________________________________\n",
      "dense_5 (Dense)              (None, 6000)              864006000 \n",
      "_________________________________________________________________\n",
      "dense_6 (Dense)              (None, 116)               696116    \n",
      "_________________________________________________________________\n",
      "dense_7 (Dense)              (None, 6000)              702000    \n",
      "_________________________________________________________________\n",
      "dense_8 (Dense)              (None, 144000)            864144000 \n",
      "=================================================================\n",
      "Total params: 1,729,548,116\n",
      "Trainable params: 1,729,548,116\n",
      "Non-trainable params: 0\n",
      "_________________________________________________________________\n"
     ]
    }
   ],
   "source": [
    "autoencoder.summary()"
   ]
  },
  {
   "cell_type": "code",
   "execution_count": null,
   "metadata": {},
   "outputs": [
    {
     "name": "stdout",
     "output_type": "stream",
     "text": [
      "Epoch 1/4\n"
     ]
    }
   ],
   "source": [
    "autoencoder.fit_generator(generator=training_generator,\n",
    "                          validation_data=validation_generator,\n",
    "                          use_multiprocessing=True,\n",
    "                          workers=2,\n",
    "                          epochs=4)"
   ]
  },
  {
   "cell_type": "code",
   "execution_count": 11,
   "metadata": {},
   "outputs": [],
   "source": [
    "model = Sequential([\n",
    "    Dense(units=16, input_shape=(1,), activation='relu'),\n",
    "    Dense(units=32, activation='relu'),\n",
    "    Dense(units=2, activation='softmax')\n",
    "])"
   ]
  },
  {
   "cell_type": "code",
   "execution_count": 12,
   "metadata": {},
   "outputs": [
    {
     "name": "stdout",
     "output_type": "stream",
     "text": [
      "_________________________________________________________________\n",
      "Layer (type)                 Output Shape              Param #   \n",
      "=================================================================\n",
      "dense_17 (Dense)             (None, 16)                32        \n",
      "_________________________________________________________________\n",
      "dense_18 (Dense)             (None, 32)                544       \n",
      "_________________________________________________________________\n",
      "dense_19 (Dense)             (None, 2)                 66        \n",
      "=================================================================\n",
      "Total params: 642\n",
      "Trainable params: 642\n",
      "Non-trainable params: 0\n",
      "_________________________________________________________________\n"
     ]
    }
   ],
   "source": [
    "model.summary()"
   ]
  },
  {
   "cell_type": "code",
   "execution_count": 15,
   "metadata": {},
   "outputs": [],
   "source": [
    "model.compile(optimizer=Adam(lr=.0001), loss='sparse_categorical_crossentropy', metrics=['accuracy'])"
   ]
  }
 ],
 "metadata": {
  "kernelspec": {
   "display_name": "Python [conda env:autoencoders]",
   "language": "python",
   "name": "conda-env-autoencoders-py"
  },
  "language_info": {
   "codemirror_mode": {
    "name": "ipython",
    "version": 3
   },
   "file_extension": ".py",
   "mimetype": "text/x-python",
   "name": "python",
   "nbconvert_exporter": "python",
   "pygments_lexer": "ipython3",
   "version": "3.6.6"
  }
 },
 "nbformat": 4,
 "nbformat_minor": 2
}
